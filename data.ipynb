{
 "cells": [
  {
   "cell_type": "code",
   "execution_count": 1,
   "metadata": {},
   "outputs": [
    {
     "name": "stdout",
     "output_type": "stream",
     "text": [
      "Requirement already satisfied: pandas in c:\\users\\tupka\\anaconda3\\lib\\site-packages (2.0.3)\n",
      "Requirement already satisfied: python-dateutil>=2.8.2 in c:\\users\\tupka\\anaconda3\\lib\\site-packages (from pandas) (2.9.0.post0)\n",
      "Requirement already satisfied: pytz>=2020.1 in c:\\users\\tupka\\anaconda3\\lib\\site-packages (from pandas) (2023.3.post1)\n",
      "Requirement already satisfied: tzdata>=2022.1 in c:\\users\\tupka\\anaconda3\\lib\\site-packages (from pandas) (2023.3)\n",
      "Requirement already satisfied: numpy>=1.21.0 in c:\\users\\tupka\\anaconda3\\lib\\site-packages (from pandas) (1.26.4)\n",
      "Requirement already satisfied: six>=1.5 in c:\\users\\tupka\\anaconda3\\lib\\site-packages (from python-dateutil>=2.8.2->pandas) (1.17.0)\n"
     ]
    },
    {
     "name": "stderr",
     "output_type": "stream",
     "text": [
      "WARNING: Ignoring invalid distribution ~rotobuf (C:\\Users\\tupka\\anaconda3\\Lib\\site-packages)\n",
      "WARNING: Ignoring invalid distribution ~rotobuf (C:\\Users\\tupka\\anaconda3\\Lib\\site-packages)\n",
      "WARNING: Ignoring invalid distribution ~rotobuf (C:\\Users\\tupka\\anaconda3\\Lib\\site-packages)\n",
      "\n",
      "[notice] A new release of pip is available: 25.0 -> 25.0.1\n",
      "[notice] To update, run: python.exe -m pip install --upgrade pip\n"
     ]
    },
    {
     "name": "stdout",
     "output_type": "stream",
     "text": [
      "   Age  Height  Weight    BMI  Gender\n",
      "0   11     157      53  21.50       1\n",
      "1   18     171      56  19.15       0\n",
      "2    7     135      28  15.36       0\n",
      "3    4     108      20  17.15       1\n",
      "4    2     100      16  16.00       1\n",
      "5   55     167      80  28.69       0\n",
      "6   14     141      39  19.62       0\n",
      "7   35     169      71  24.86       0\n",
      "8   18     173      68  22.72       0\n",
      "9   24     185      75  21.91       0\n"
     ]
    }
   ],
   "source": [
    "! pip install pandas\n",
    "import pandas as pd\n",
    "import random\n",
    "\n",
    "# Function to calculate BMI\n",
    "def calculate_bmi(height, weight):\n",
    "    height_m = height / 100  # Convert height to meters\n",
    "    bmi = weight / (height_m ** 2)\n",
    "    return round(bmi, 2)\n",
    "\n",
    "# Age-based realistic height and weight ranges\n",
    "age_groups = {\n",
    "    (2, 5): {\"height\": (85, 110), \"weight\": (10, 20)},\n",
    "    (6, 10): {\"height\": (110, 140), \"weight\": (20, 35)},\n",
    "    (11, 15): {\"height\": (140, 165), \"weight\": (35, 55)},\n",
    "    (16, 20): {\"height\": (155, 180), \"weight\": (50, 75)},\n",
    "    (21, 40): {\"height\": (160, 190), \"weight\": (55, 90)},\n",
    "    (41, 60): {\"height\": (155, 185), \"weight\": (60, 95)},\n",
    "    (61, 90): {\"height\": (150, 180), \"weight\": (55, 85)}\n",
    "}\n",
    "\n",
    "# Function to generate realistic data\n",
    "def generate_data(samples=100):\n",
    "    data = []\n",
    "    for _ in range(samples):\n",
    "        # Select an age group\n",
    "        age_group = random.choice(list(age_groups.keys()))\n",
    "        age = random.randint(age_group[0], age_group[1])\n",
    "\n",
    "        # Get appropriate height and weight range\n",
    "        height_range = age_groups[age_group][\"height\"]\n",
    "        weight_range = age_groups[age_group][\"weight\"]\n",
    "\n",
    "        # Generate realistic height and weight\n",
    "        height = random.randint(height_range[0], height_range[1])\n",
    "        weight = random.randint(weight_range[0], weight_range[1])\n",
    "\n",
    "        # Calculate BMI\n",
    "        bmi = calculate_bmi(height, weight)\n",
    "\n",
    "        # Random gender: 0 for Male, 1 for Female\n",
    "        gender = random.choice([0, 1])\n",
    "\n",
    "        data.append([age, height, weight, bmi, gender])\n",
    "\n",
    "    return data\n",
    "\n",
    "# Generate dataset\n",
    "samples = 500  # Number of samples to generate\n",
    "dataset = generate_data(samples)\n",
    "\n",
    "# Create a DataFrame\n",
    "columns = [\"Age\", \"Height\", \"Weight\", \"BMI\", \"Gender\"]\n",
    "df = pd.DataFrame(dataset, columns=columns)\n",
    "\n",
    "# Save to a CSV file\n",
    "df.to_csv(\"data.csv\", index=False)\n",
    "\n",
    "# Display first 10 rows\n",
    "print(df.head(10))\n"
   ]
  },
  {
   "cell_type": "code",
   "execution_count": 1,
   "metadata": {},
   "outputs": [],
   "source": [
    "import torch\n",
    "import torch.nn as nn\n",
    "import torch.optim as optim\n",
    "import pandas as pd\n",
    "import numpy as np\n",
    "from sklearn.model_selection import train_test_split\n",
    "from sklearn.preprocessing import StandardScaler"
   ]
  },
  {
   "cell_type": "code",
   "execution_count": 2,
   "metadata": {},
   "outputs": [],
   "source": [
    "df = pd.read_csv(\"data.csv\")\n",
    "\n",
    "# Extract input (X) and output (Y)\n",
    "X = df[[\"Age\", \"Gender\"]].values  # Input features: Age & Gender\n",
    "Y = df[[\"Height\", \"Weight\", \"BMI\"]].values  # Output: Height, Weight, BMI\n"
   ]
  },
  {
   "cell_type": "code",
   "execution_count": 3,
   "metadata": {},
   "outputs": [],
   "source": [
    "scaler_y = StandardScaler()\n",
    "Y = scaler_y.fit_transform(Y)"
   ]
  },
  {
   "cell_type": "code",
   "execution_count": 4,
   "metadata": {},
   "outputs": [],
   "source": [
    "# Split dataset into train & test\n",
    "X_train, X_test, Y_train, Y_test = train_test_split(X, Y, test_size=0.2, random_state=42)\n",
    "\n",
    "# Convert to PyTorch tensors\n",
    "X_train = torch.tensor(X_train, dtype=torch.float32)\n",
    "X_test = torch.tensor(X_test, dtype=torch.float32)\n",
    "Y_train = torch.tensor(Y_train, dtype=torch.float32)\n",
    "Y_test = torch.tensor(Y_test, dtype=torch.float32)"
   ]
  },
  {
   "cell_type": "code",
   "execution_count": 5,
   "metadata": {},
   "outputs": [],
   "source": [
    "class HeightWeightBMIModel(nn.Module):\n",
    "    def __init__(self):\n",
    "        super(HeightWeightBMIModel, self).__init__()\n",
    "        self.fc1 = nn.Linear(2, 16)  # Input: Age, Gender\n",
    "        self.fc2 = nn.Linear(16, 32)\n",
    "        self.fc3 = nn.Linear(32, 16)\n",
    "        self.fc4 = nn.Linear(16, 3)  # Output: Height, Weight, BMI\n",
    "        self.relu = nn.ReLU()\n",
    "\n",
    "    def forward(self, x):\n",
    "        x = self.relu(self.fc1(x))\n",
    "        x = self.relu(self.fc2(x))\n",
    "        x = self.relu(self.fc3(x))\n",
    "        x = self.fc4(x)  # No activation in the output layer (Regression)\n",
    "        return x\n",
    "\n",
    "# Instantiate model\n",
    "model = HeightWeightBMIModel()"
   ]
  },
  {
   "cell_type": "code",
   "execution_count": 6,
   "metadata": {},
   "outputs": [],
   "source": [
    "model = HeightWeightBMIModel()\n",
    "\n",
    "# Define loss function (MSE for regression)\n",
    "criterion = nn.MSELoss()\n",
    "\n",
    "# Define optimizer (Adam for efficiency)\n",
    "optimizer = optim.Adam(model.parameters(), lr=0.001)"
   ]
  },
  {
   "cell_type": "code",
   "execution_count": 7,
   "metadata": {},
   "outputs": [
    {
     "name": "stdout",
     "output_type": "stream",
     "text": [
      "Epoch [100/1000], Loss: 0.6483\n",
      "Epoch [200/1000], Loss: 0.3707\n",
      "Epoch [300/1000], Loss: 0.3282\n",
      "Epoch [400/1000], Loss: 0.2966\n",
      "Epoch [500/1000], Loss: 0.2755\n",
      "Epoch [600/1000], Loss: 0.2739\n",
      "Epoch [700/1000], Loss: 0.2729\n",
      "Epoch [800/1000], Loss: 0.2721\n",
      "Epoch [900/1000], Loss: 0.2715\n",
      "Epoch [1000/1000], Loss: 0.2707\n"
     ]
    }
   ],
   "source": [
    "epochs = 1000\n",
    "for epoch in range(epochs):\n",
    "    model.train()\n",
    "    optimizer.zero_grad()\n",
    "    predictions = model(X_train)\n",
    "    loss = criterion(predictions, Y_train)\n",
    "    loss.backward()\n",
    "    optimizer.step()\n",
    "\n",
    "    if (epoch + 1) % 100 == 0:  # Print every 100 epochs\n",
    "        print(f\"Epoch [{epoch+1}/{epochs}], Loss: {loss.item():.4f}\")"
   ]
  },
  {
   "cell_type": "code",
   "execution_count": 8,
   "metadata": {},
   "outputs": [
    {
     "name": "stdout",
     "output_type": "stream",
     "text": [
      "Model trained and saved as 'height_weight_bmi.pth'\n"
     ]
    }
   ],
   "source": [
    "torch.save({\"model_state_dict\": model.state_dict(), \"scaler_y\": scaler_y}, \"height_weight_bmi.pth\")\n",
    "print(\"Model trained and saved as 'height_weight_bmi.pth'\")"
   ]
  },
  {
   "cell_type": "code",
   "execution_count": 2,
   "metadata": {},
   "outputs": [],
   "source": [
    "import torch\n",
    "import torch.nn as nn\n",
    "import torch.optim as optim\n",
    "import pandas as pd\n",
    "import numpy as np\n",
    "from sklearn.model_selection import train_test_split\n",
    "from sklearn.preprocessing import StandardScaler"
   ]
  },
  {
   "cell_type": "code",
   "execution_count": 3,
   "metadata": {},
   "outputs": [],
   "source": [
    "file_path = \"bdims.csv\"  # Update with the correct path\n",
    "df = pd.read_csv(file_path)"
   ]
  },
  {
   "cell_type": "code",
   "execution_count": 4,
   "metadata": {},
   "outputs": [],
   "source": [
    "df = df[['age', 'sex', 'hgt', 'wgt']]\n",
    "\n",
    "# Split features (X) and targets (y)\n",
    "X = df[['age', 'sex']].values  # Inputs: Age and Sex\n",
    "y = df[['hgt', 'wgt']].values  # Targets: Height and Weight"
   ]
  },
  {
   "cell_type": "code",
   "execution_count": 5,
   "metadata": {},
   "outputs": [],
   "source": [
    "# Normalize input features (important for neural networks)\n",
    "scaler_X = StandardScaler()\n",
    "X = scaler_X.fit_transform(X)\n",
    "\n",
    "# Normalize output targets\n",
    "scaler_y = StandardScaler()\n",
    "y = scaler_y.fit_transform(y)\n",
    "\n",
    "# Convert to PyTorch tensors\n",
    "X_tensor = torch.tensor(X, dtype=torch.float32)\n",
    "y_tensor = torch.tensor(y, dtype=torch.float32)"
   ]
  },
  {
   "cell_type": "code",
   "execution_count": 6,
   "metadata": {},
   "outputs": [],
   "source": [
    "X_train, X_test, y_train, y_test = train_test_split(X_tensor, y_tensor, test_size=0.2, random_state=42)"
   ]
  },
  {
   "cell_type": "code",
   "execution_count": 7,
   "metadata": {},
   "outputs": [],
   "source": [
    "class AgeSexToHeightWeightModel(nn.Module):\n",
    "    def __init__(self):\n",
    "        super(AgeSexToHeightWeightModel, self).__init__()\n",
    "        self.fc1 = nn.Linear(2, 16)  # Input: 2 features (age, sex), 16 neurons\n",
    "        self.fc2 = nn.Linear(16, 32) # Hidden Layer\n",
    "        self.fc3 = nn.Linear(32, 2)  # Output: 2 values (height, weight)\n",
    "        self.relu = nn.ReLU()\n",
    "    \n",
    "    def forward(self, x):\n",
    "        x = self.relu(self.fc1(x))\n",
    "        x = self.relu(self.fc2(x))\n",
    "        x = self.fc3(x)  # No activation function (Regression task)\n",
    "        return x\n",
    "\n",
    "model = AgeSexToHeightWeightModel()\n",
    "criterion = nn.MSELoss()\n",
    "optimizer = optim.Adam(model.parameters(), lr=0.01)\n"
   ]
  },
  {
   "cell_type": "code",
   "execution_count": 8,
   "metadata": {},
   "outputs": [
    {
     "name": "stdout",
     "output_type": "stream",
     "text": [
      "Epoch [50/500], Loss: 0.5259\n",
      "Epoch [100/500], Loss: 0.5229\n",
      "Epoch [150/500], Loss: 0.5214\n",
      "Epoch [200/500], Loss: 0.5196\n",
      "Epoch [250/500], Loss: 0.5185\n",
      "Epoch [300/500], Loss: 0.5172\n",
      "Epoch [350/500], Loss: 0.5151\n",
      "Epoch [400/500], Loss: 0.5123\n",
      "Epoch [450/500], Loss: 0.5093\n",
      "Epoch [500/500], Loss: 0.5042\n"
     ]
    }
   ],
   "source": [
    "num_epochs = 500\n",
    "for epoch in range(num_epochs):\n",
    "    model.train()\n",
    "    optimizer.zero_grad()\n",
    "    outputs = model(X_train)\n",
    "    loss = criterion(outputs, y_train)\n",
    "    loss.backward()\n",
    "    optimizer.step()\n",
    "    \n",
    "    if (epoch+1) % 50 == 0:\n",
    "        print(f\"Epoch [{epoch+1}/{num_epochs}], Loss: {loss.item():.4f}\")\n"
   ]
  },
  {
   "cell_type": "code",
   "execution_count": 9,
   "metadata": {},
   "outputs": [
    {
     "name": "stdout",
     "output_type": "stream",
     "text": [
      "Test Loss: 0.5831\n"
     ]
    }
   ],
   "source": [
    "model.eval()\n",
    "with torch.no_grad():\n",
    "    predictions = model(X_test)\n",
    "    test_loss = criterion(predictions, y_test)\n",
    "    print(f\"Test Loss: {test_loss.item():.4f}\")\n",
    "\n",
    "# Convert predictions back to original scale\n",
    "predictions = scaler_y.inverse_transform(predictions.numpy())"
   ]
  },
  {
   "cell_type": "code",
   "execution_count": 10,
   "metadata": {},
   "outputs": [],
   "source": [
    "def predict_height_weight(age, sex):\n",
    "    # Convert input to tensor\n",
    "    input_data = np.array([[age, sex]])  # Convert to numpy array\n",
    "    input_data = scaler_X.transform(input_data)  # Normalize using same scaler\n",
    "    input_tensor = torch.tensor(input_data, dtype=torch.float32)  # Convert to tensor\n",
    "    \n",
    "    # Predict using the model\n",
    "    model.eval()\n",
    "    with torch.no_grad():\n",
    "        predicted_scaled = model(input_tensor).numpy()  # Get predictions in scaled form\n",
    "    \n",
    "    # Convert back to original scale\n",
    "    predicted = scaler_y.inverse_transform(predicted_scaled)\n",
    "    \n",
    "    # Print results\n",
    "    height, weight = predicted[0]\n",
    "    print(f\"Predicted Height: {height:.2f} cm\")\n",
    "    print(f\"Predicted Weight: {weight:.2f} kg\")\n",
    "\n"
   ]
  },
  {
   "cell_type": "code",
   "execution_count": 14,
   "metadata": {},
   "outputs": [
    {
     "name": "stdout",
     "output_type": "stream",
     "text": [
      "Predicted Height: 178.16 cm\n",
      "Predicted Weight: 77.11 kg\n"
     ]
    }
   ],
   "source": [
    "\n",
    "# Example usage\n",
    "predict_height_weight(age=25, sex=1)  # Predict for a 25-year-old male (1 = male, 0 = female)"
   ]
  },
  {
   "cell_type": "code",
   "execution_count": 12,
   "metadata": {},
   "outputs": [
    {
     "name": "stdout",
     "output_type": "stream",
     "text": [
      "Model trained and saved as 'h_w_model.pth'\n"
     ]
    }
   ],
   "source": [
    "torch.save({\"model_state_dict\": model.state_dict(), \"scaler_y\": scaler_y}, \"h_w_model.pth\")\n",
    "print(\"Model trained and saved as 'h_w_model.pth'\")"
   ]
  },
  {
   "cell_type": "code",
   "execution_count": null,
   "metadata": {},
   "outputs": [],
   "source": []
  }
 ],
 "metadata": {
  "kernelspec": {
   "display_name": "base",
   "language": "python",
   "name": "python3"
  },
  "language_info": {
   "codemirror_mode": {
    "name": "ipython",
    "version": 3
   },
   "file_extension": ".py",
   "mimetype": "text/x-python",
   "name": "python",
   "nbconvert_exporter": "python",
   "pygments_lexer": "ipython3",
   "version": "3.11.5"
  }
 },
 "nbformat": 4,
 "nbformat_minor": 2
}
