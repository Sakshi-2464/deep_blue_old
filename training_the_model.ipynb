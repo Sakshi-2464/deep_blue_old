{
 "cells": [
  {
   "cell_type": "code",
   "execution_count": 1,
   "metadata": {},
   "outputs": [],
   "source": [
    "import torch\n",
    "import torch.nn as nn\n",
    "import torch.optim as optim\n",
    "import pandas as pd\n",
    "from sklearn.preprocessing import StandardScaler\n",
    "from sklearn.model_selection import train_test_split\n",
    "from sklearn.metrics import mean_squared_error, r2_score"
   ]
  },
  {
   "cell_type": "code",
   "execution_count": 2,
   "metadata": {},
   "outputs": [],
   "source": [
    "data = pd.read_csv(\"C:/Users/tupka/Downloads/estimation_with_bmi/generated_data.csv\")"
   ]
  },
  {
   "cell_type": "code",
   "execution_count": 3,
   "metadata": {},
   "outputs": [],
   "source": [
    "X = data[['Age', 'Gender']].values\n",
    "\n",
    "# Targets: Height, Weight, and BMI\n",
    "y = data[['Height', 'Weight', 'BMI']].values"
   ]
  },
  {
   "cell_type": "code",
   "execution_count": 4,
   "metadata": {},
   "outputs": [],
   "source": [
    "scaler = StandardScaler()\n",
    "X_scaled = scaler.fit_transform(X)\n",
    "\n",
    "X_train, X_test, y_train, y_test = train_test_split(X, y, test_size=0.2, random_state=42)\n",
    "\n",
    "# Convert data to PyTorch tensors\n",
    "X_train_tensor = torch.tensor(X_train, dtype=torch.float32)\n",
    "X_test_tensor = torch.tensor(X_test, dtype=torch.float32)\n",
    "y_train_tensor = torch.tensor(y_train, dtype=torch.float32)\n",
    "y_test_tensor = torch.tensor(y_test, dtype=torch.float32)\n"
   ]
  },
  {
   "cell_type": "code",
   "execution_count": 5,
   "metadata": {},
   "outputs": [],
   "source": [
    "class EstimatorModel(nn.Module):\n",
    "    def __init__(self):\n",
    "        super(EstimatorModel, self).__init__()\n",
    "        self.fc1 = nn.Linear(2, 64)  # Reduce the input layer size\n",
    "        self.fc2 = nn.Linear(64, 128)\n",
    "        self.fc3 = nn.Linear(128, 64)\n",
    "        self.fc4 = nn.Linear(64, 3)  # Output layer\n",
    "        self.dropout = nn.Dropout(0.2)  # Dropout layer to prevent overfitting\n",
    "    \n",
    "    def forward(self, x):\n",
    "        x = torch.relu(self.fc1(x))\n",
    "        x = torch.relu(self.fc2(x))\n",
    "        x = self.dropout(x)\n",
    "        x = torch.relu(self.fc3(x))\n",
    "        return self.fc4(x)\n",
    "\n",
    "# Hyperparameters\n",
    "learning_rate = 0.1\n",
    "epochs = 1000\n",
    "# 4. Instantiate the model, loss function, and optimizer\n",
    "model = EstimatorModel()\n",
    "criterion = nn.MSELoss()  # Mean Squared Error loss for regression\n",
    "optimizer = optim.Adam(model.parameters(), lr=learning_rate)"
   ]
  },
  {
   "cell_type": "code",
   "execution_count": 6,
   "metadata": {},
   "outputs": [
    {
     "name": "stdout",
     "output_type": "stream",
     "text": [
      "Epoch [0/1000], Loss: 11156.615234375\n",
      "Epoch [100/1000], Loss: 203.02667236328125\n",
      "Epoch [200/1000], Loss: 153.9930419921875\n",
      "Epoch [300/1000], Loss: 146.51487731933594\n",
      "Epoch [400/1000], Loss: 147.16876220703125\n",
      "Epoch [500/1000], Loss: 146.43418884277344\n",
      "Epoch [600/1000], Loss: 145.40318298339844\n",
      "Epoch [700/1000], Loss: 147.14981079101562\n",
      "Epoch [800/1000], Loss: 145.7273712158203\n",
      "Epoch [900/1000], Loss: 145.5930633544922\n"
     ]
    }
   ],
   "source": [
    "for epoch in range(epochs):\n",
    "    model.train()\n",
    "    optimizer.zero_grad()\n",
    "\n",
    "    # Forward pass\n",
    "    y_pred = model(X_train_tensor)\n",
    "\n",
    "    # Compute loss\n",
    "    loss = criterion(y_pred, y_train_tensor)\n",
    "\n",
    "    # Backpropagation\n",
    "    loss.backward()\n",
    "    optimizer.step()\n",
    "\n",
    "    if epoch % 100 == 0:\n",
    "        print(f'Epoch [{epoch}/{epochs}], Loss: {loss.item()}')"
   ]
  },
  {
   "cell_type": "code",
   "execution_count": 7,
   "metadata": {},
   "outputs": [
    {
     "name": "stdout",
     "output_type": "stream",
     "text": [
      "Mean Squared Error on Test Set: 141.1610\n"
     ]
    }
   ],
   "source": [
    "model.eval()\n",
    "with torch.no_grad():\n",
    "    predictions = model(X_test_tensor)\n",
    "    mse = mean_squared_error(y_test_tensor, predictions)\n",
    "    print(f'Mean Squared Error on Test Set: {mse:.4f}')\n"
   ]
  },
  {
   "cell_type": "code",
   "execution_count": 8,
   "metadata": {},
   "outputs": [
    {
     "name": "stdout",
     "output_type": "stream",
     "text": [
      "Predicted Height: 167.83 cm\n",
      "Predicted Weight: 74.99 kg\n",
      "Predicted BMI: 26.99\n"
     ]
    }
   ],
   "source": [
    "age = 20\n",
    "gender = 1  # Female\n",
    "input_data = torch.tensor([[age, gender]], dtype=torch.float32)\n",
    "\n",
    "model.eval()\n",
    "with torch.no_grad():\n",
    "    predicted = model(input_data)\n",
    "    print(f\"Predicted Height: {predicted[0][0].item():.2f} cm\")\n",
    "    print(f\"Predicted Weight: {predicted[0][1].item():.2f} kg\")\n",
    "    print(f\"Predicted BMI: {predicted[0][2].item():.2f}\")"
   ]
  },
  {
   "cell_type": "code",
   "execution_count": null,
   "metadata": {},
   "outputs": [],
   "source": [
    "# Save the model\n",
    "torch.save(model.state_dict(), 'new_model.pth')\n",
    "print(\"Model saved successfully!\")\n"
   ]
  }
 ],
 "metadata": {
  "kernelspec": {
   "display_name": "base",
   "language": "python",
   "name": "python3"
  },
  "language_info": {
   "codemirror_mode": {
    "name": "ipython",
    "version": 3
   },
   "file_extension": ".py",
   "mimetype": "text/x-python",
   "name": "python",
   "nbconvert_exporter": "python",
   "pygments_lexer": "ipython3",
   "version": "3.11.5"
  }
 },
 "nbformat": 4,
 "nbformat_minor": 2
}
