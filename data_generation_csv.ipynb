{
 "cells": [
  {
   "cell_type": "code",
   "execution_count": 1,
   "metadata": {},
   "outputs": [
    {
     "name": "stdout",
     "output_type": "stream",
     "text": [
      "   Age  Height  Weight    BMI  Gender\n",
      "0   27     185      59  17.24       0\n",
      "1   63     165      81  29.75       1\n",
      "2   69     184      48  14.18       1\n",
      "3   44     182      74  22.34       1\n",
      "4   80     165      65  23.88       1\n",
      "5   80     178      78  24.62       1\n",
      "6   72     180      46  14.20       0\n",
      "7   52     178      62  19.57       1\n",
      "8   21     166      92  33.39       0\n",
      "9   38     175      88  28.73       0\n"
     ]
    }
   ],
   "source": [
    "import pandas as pd\n",
    "import random\n",
    "\n",
    "# Function to calculate BMI\n",
    "def calculate_bmi(height, weight):\n",
    "    height_m = height / 100  # Convert height to meters\n",
    "    bmi = weight / (height_m ** 2)\n",
    "    return round(bmi, 2)\n",
    "\n",
    "# Function to generate random data\n",
    "def generate_data(samples=100):\n",
    "    data = []\n",
    "    for _ in range(samples):\n",
    "        age = random.randint(15, 90)  # Age between 15 and 90\n",
    "        height = random.randint(150, 190)  # Height between 150 and 190 cm\n",
    "        weight = random.randint(45, 100)  # Weight between 45 and 100 kg\n",
    "        bmi = calculate_bmi(height, weight)  # Calculate BMI\n",
    "        gender = random.choice([0, 1])  # Random gender, 0 for male, 1 for female\n",
    "        data.append([age, height, weight, bmi, gender])\n",
    "    return data\n",
    "\n",
    "# Generate dataset\n",
    "samples = 500  # Number of samples to generate\n",
    "dataset = generate_data(samples)\n",
    "\n",
    "# Create a DataFrame\n",
    "columns = [\"Age\", \"Height\", \"Weight\", \"BMI\", \"Gender\"]\n",
    "df = pd.DataFrame(dataset, columns=columns)\n",
    "\n",
    "# Save to a CSV file\n",
    "df.to_csv(\"generated_data.csv\", index=False)\n",
    "\n",
    "# Display first 10 rows\n",
    "print(df.head(10))\n"
   ]
  },
  {
   "cell_type": "code",
   "execution_count": 2,
   "metadata": {},
   "outputs": [
    {
     "name": "stdout",
     "output_type": "stream",
     "text": [
      "<bound method NDFrame.tail of      Age  Height  Weight    BMI  Gender\n",
      "0     27     185      59  17.24       0\n",
      "1     63     165      81  29.75       1\n",
      "2     69     184      48  14.18       1\n",
      "3     44     182      74  22.34       1\n",
      "4     80     165      65  23.88       1\n",
      "..   ...     ...     ...    ...     ...\n",
      "495   21     170      67  23.18       0\n",
      "496   53     169      47  16.46       0\n",
      "497   54     179      79  24.66       0\n",
      "498   60     151      53  23.24       0\n",
      "499   26     173      56  18.71       1\n",
      "\n",
      "[500 rows x 5 columns]>\n"
     ]
    }
   ],
   "source": [
    "print(df.tail)"
   ]
  },
  {
   "cell_type": "code",
   "execution_count": null,
   "metadata": {},
   "outputs": [],
   "source": []
  }
 ],
 "metadata": {
  "kernelspec": {
   "display_name": "base",
   "language": "python",
   "name": "python3"
  },
  "language_info": {
   "codemirror_mode": {
    "name": "ipython",
    "version": 3
   },
   "file_extension": ".py",
   "mimetype": "text/x-python",
   "name": "python",
   "nbconvert_exporter": "python",
   "pygments_lexer": "ipython3",
   "version": "3.11.5"
  }
 },
 "nbformat": 4,
 "nbformat_minor": 2
}
